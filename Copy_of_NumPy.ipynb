{
  "nbformat": 4,
  "nbformat_minor": 0,
  "metadata": {
    "colab": {
      "provenance": [],
      "collapsed_sections": []
    },
    "kernelspec": {
      "name": "python3",
      "display_name": "Python 3"
    },
    "language_info": {
      "name": "python"
    }
  },
  "cells": [
    {
      "cell_type": "code",
      "execution_count": null,
      "metadata": {
        "colab": {
          "base_uri": "https://localhost:8080/"
        },
        "id": "_Y-WuQdttiUo",
        "outputId": "578f7a02-d873-49b4-d385-ab2fed46cc78"
      },
      "outputs": [
        {
          "output_type": "execute_result",
          "data": {
            "text/plain": [
              "array([10, 20, 30, 40])"
            ]
          },
          "metadata": {},
          "execution_count": 2
        }
      ],
      "source": [
        "#creating single dimensional array\n",
        "import numpy as np\n",
        "n1=np.array([10,20,30,40])\n",
        "n1"
      ]
    },
    {
      "cell_type": "markdown",
      "source": [],
      "metadata": {
        "id": "p50A-sU4692J"
      }
    },
    {
      "cell_type": "code",
      "source": [
        "#creating multi dimensional array\n",
        "import numpy as np\n",
        "n2=np.array([[10,34,21,34,23],[23,45,56,23,45]])\n",
        "n2\n",
        "type(n2)\n",
        "print(n2.ndim)"
      ],
      "metadata": {
        "colab": {
          "base_uri": "https://localhost:8080/"
        },
        "id": "D1Z2RbYyuh3m",
        "outputId": "f1d0de4e-66a7-4234-9af0-e3d2d1e201a2"
      },
      "execution_count": null,
      "outputs": [
        {
          "output_type": "stream",
          "name": "stdout",
          "text": [
            "2\n"
          ]
        }
      ]
    },
    {
      "cell_type": "code",
      "source": [
        "n2"
      ],
      "metadata": {
        "colab": {
          "base_uri": "https://localhost:8080/"
        },
        "id": "iTE-ue2Gw83T",
        "outputId": "5d092750-cef4-4642-ac70-078bd5b167cb"
      },
      "execution_count": null,
      "outputs": [
        {
          "output_type": "execute_result",
          "data": {
            "text/plain": [
              "array([[10, 34, 21, 34, 23],\n",
              "       [23, 45, 56, 23, 45]])"
            ]
          },
          "metadata": {},
          "execution_count": 8
        }
      ]
    },
    {
      "cell_type": "code",
      "source": [
        "n2[0] #prints array of index 0"
      ],
      "metadata": {
        "colab": {
          "base_uri": "https://localhost:8080/"
        },
        "id": "HIIqnugyxBRx",
        "outputId": "ff524cb2-4db7-4c45-d354-f06c94afea91"
      },
      "execution_count": null,
      "outputs": [
        {
          "output_type": "execute_result",
          "data": {
            "text/plain": [
              "array([10, 34, 21, 34, 23])"
            ]
          },
          "metadata": {},
          "execution_count": 9
        }
      ]
    },
    {
      "cell_type": "code",
      "source": [
        "n2[1] #print array of index 1"
      ],
      "metadata": {
        "colab": {
          "base_uri": "https://localhost:8080/"
        },
        "id": "HlEQOT3IxGj4",
        "outputId": "c60c5876-c5d9-4498-edba-a34d5bdc05b6"
      },
      "execution_count": null,
      "outputs": [
        {
          "output_type": "execute_result",
          "data": {
            "text/plain": [
              "array([23, 45, 56, 23, 45])"
            ]
          },
          "metadata": {},
          "execution_count": 27
        }
      ]
    },
    {
      "cell_type": "code",
      "source": [
        "n2[0,4] #prints 4th element of array of index 0"
      ],
      "metadata": {
        "colab": {
          "base_uri": "https://localhost:8080/"
        },
        "id": "iwK66weUx5EX",
        "outputId": "5977b0a3-ab41-4848-eb58-e4a5e4a97145"
      },
      "execution_count": null,
      "outputs": [
        {
          "output_type": "execute_result",
          "data": {
            "text/plain": [
              "23"
            ]
          },
          "metadata": {},
          "execution_count": 21
        }
      ]
    },
    {
      "cell_type": "code",
      "source": [
        "n2[1,4] #prints 4th element of array of index 1"
      ],
      "metadata": {
        "colab": {
          "base_uri": "https://localhost:8080/"
        },
        "id": "xRDOlh5DxJo2",
        "outputId": "367331c3-c50e-42f1-f4d3-c1c5f6246ff7"
      },
      "execution_count": null,
      "outputs": [
        {
          "output_type": "execute_result",
          "data": {
            "text/plain": [
              "45"
            ]
          },
          "metadata": {},
          "execution_count": 20
        }
      ]
    },
    {
      "cell_type": "code",
      "source": [
        "#checking number of dimensions\n",
        "import numpy as np\n",
        "a=np.array(42)\n",
        "b=np.array([1,2,3,4])\n",
        "c=np.array([[7,8,9,6],[23,32,54,76]])\n",
        "d=np.array([[[45,67,54,3],[34,6,65,4]],[[3,5,6,4],[3,5,6,7]]])\n",
        "print(a.ndim)\n",
        "print(b.ndim)\n",
        "print(c.ndim)\n",
        "print(d.ndim)"
      ],
      "metadata": {
        "colab": {
          "base_uri": "https://localhost:8080/"
        },
        "id": "5cPWzibazHuO",
        "outputId": "b0e1524b-a20d-41f1-fe4c-bc6e7ad4d356"
      },
      "execution_count": null,
      "outputs": [
        {
          "output_type": "stream",
          "name": "stdout",
          "text": [
            "0\n",
            "1\n",
            "2\n",
            "3\n"
          ]
        }
      ]
    },
    {
      "cell_type": "code",
      "source": [
        "#extracting of elements\n",
        "n1[0] #prints element at specified index\n",
        "n1[1:3] #prints elements from 1 to 3-1 index"
      ],
      "metadata": {
        "colab": {
          "base_uri": "https://localhost:8080/"
        },
        "id": "MQPMDRLov6NV",
        "outputId": "ac92a8bc-6d71-4bff-8f7a-b204223264e1"
      },
      "execution_count": null,
      "outputs": [
        {
          "output_type": "execute_result",
          "data": {
            "text/plain": [
              "array([20, 30])"
            ]
          },
          "metadata": {},
          "execution_count": 5
        }
      ]
    },
    {
      "cell_type": "code",
      "source": [],
      "metadata": {
        "id": "L3IjLI1Uxzen"
      },
      "execution_count": null,
      "outputs": []
    },
    {
      "cell_type": "code",
      "source": [
        "import numpy as np\n",
        "n2=np.array([1,2,3,4,5,6,7,8,9,10])\n",
        "print(n2[-1:])#prints 10\n",
        "print(n2[-2:-7])#prints []\n",
        "print(n2[-7:-2])\n"
      ],
      "metadata": {
        "colab": {
          "base_uri": "https://localhost:8080/"
        },
        "id": "igE-hxxZobG4",
        "outputId": "d3aa116c-895b-4358-9e2f-90f6837ff559"
      },
      "execution_count": null,
      "outputs": [
        {
          "output_type": "stream",
          "name": "stdout",
          "text": [
            "[10]\n",
            "[]\n",
            "[4 5 6 7 8]\n"
          ]
        }
      ]
    },
    {
      "cell_type": "markdown",
      "source": [
        "find all the numbers from 1to1000 that have a 11 in them"
      ],
      "metadata": {
        "id": "fRjFB0B-0Ev8"
      }
    },
    {
      "cell_type": "code",
      "source": [
        "\n",
        "for i in range(1,1001):\n",
        "  if \"11\" in str(i):\n",
        "    print(i)"
      ],
      "metadata": {
        "colab": {
          "base_uri": "https://localhost:8080/"
        },
        "id": "hUTt5oA6x0js",
        "outputId": "6720f094-2d57-4eda-ed70-2800b7e0ea25"
      },
      "execution_count": null,
      "outputs": [
        {
          "output_type": "stream",
          "name": "stdout",
          "text": [
            "11\n",
            "110\n",
            "111\n",
            "112\n",
            "113\n",
            "114\n",
            "115\n",
            "116\n",
            "117\n",
            "118\n",
            "119\n",
            "211\n",
            "311\n",
            "411\n",
            "511\n",
            "611\n",
            "711\n",
            "811\n",
            "911\n"
          ]
        }
      ]
    },
    {
      "cell_type": "code",
      "source": [
        "a = np.arange(24) \n",
        "b=a.reshape(2,4,3)\n",
        "c=\n",
        "print(b)"
      ],
      "metadata": {
        "colab": {
          "base_uri": "https://localhost:8080/"
        },
        "id": "SkHtw187jC6i",
        "outputId": "b25a7ef4-2878-4de5-a36c-2dd21dee5069"
      },
      "execution_count": null,
      "outputs": [
        {
          "output_type": "stream",
          "name": "stdout",
          "text": [
            "[[[ 0  1  2]\n",
            "  [ 3  4  5]\n",
            "  [ 6  7  8]\n",
            "  [ 9 10 11]]\n",
            "\n",
            " [[12 13 14]\n",
            "  [15 16 17]\n",
            "  [18 19 20]\n",
            "  [21 22 23]]]\n"
          ]
        }
      ]
    },
    {
      "cell_type": "code",
      "source": [
        "z=np.zeros(5)\n",
        "print(z)"
      ],
      "metadata": {
        "colab": {
          "base_uri": "https://localhost:8080/"
        },
        "id": "JHP1mxbDk677",
        "outputId": "16643204-8b0f-40b8-c460-ec7f24415c08"
      },
      "execution_count": null,
      "outputs": [
        {
          "output_type": "stream",
          "name": "stdout",
          "text": [
            "[0. 0. 0. 0. 0.]\n"
          ]
        }
      ]
    },
    {
      "cell_type": "code",
      "source": [
        "q=np.arange(2,9)\n",
        "q"
      ],
      "metadata": {
        "colab": {
          "base_uri": "https://localhost:8080/"
        },
        "id": "GfkCz-3QmNnQ",
        "outputId": "ccbf6887-15ff-49e9-8ac2-da99d885ec4e"
      },
      "execution_count": null,
      "outputs": [
        {
          "output_type": "execute_result",
          "data": {
            "text/plain": [
              "array([2, 3, 4, 5, 6, 7, 8])"
            ]
          },
          "metadata": {},
          "execution_count": 13
        }
      ]
    },
    {
      "cell_type": "code",
      "source": [
        "a = np.array([1,2,3,8]) \n",
        "b = np.array([10,20,30,40]) \n",
        "c = a * b \n",
        "print(c)"
      ],
      "metadata": {
        "id": "j7BPj61rm8It",
        "colab": {
          "base_uri": "https://localhost:8080/"
        },
        "outputId": "1fb04a2a-161d-49df-c544-0805bbcaa6a6"
      },
      "execution_count": null,
      "outputs": [
        {
          "output_type": "stream",
          "name": "stdout",
          "text": [
            "[ 10  40  90 320]\n"
          ]
        }
      ]
    },
    {
      "cell_type": "markdown",
      "source": [
        "splitting arrays"
      ],
      "metadata": {
        "id": "N2wxGH8doXWH"
      }
    },
    {
      "cell_type": "code",
      "source": [
        "arr = np.array([1, 2, 3, 4, 5,6])\n",
        "newarr = np.array_split(arr, 3)\n",
        "print(newarr) "
      ],
      "metadata": {
        "colab": {
          "base_uri": "https://localhost:8080/"
        },
        "id": "N9RLg7RxoPyb",
        "outputId": "8fa6f4cd-8ee8-4fea-dd7f-5b52cafaf98f"
      },
      "execution_count": null,
      "outputs": [
        {
          "output_type": "stream",
          "name": "stdout",
          "text": [
            "[array([1, 2]), array([3, 4]), array([5, 6])]\n"
          ]
        }
      ]
    },
    {
      "cell_type": "code",
      "source": [
        "numbers = np.linspace(2, 50, 24, dtype=int)\n",
        "print(numbers)"
      ],
      "metadata": {
        "colab": {
          "base_uri": "https://localhost:8080/"
        },
        "id": "Q_a2PUkmpXvX",
        "outputId": "c7f67df0-acab-4b95-d6cc-b55f05ca002a"
      },
      "execution_count": null,
      "outputs": [
        {
          "output_type": "stream",
          "name": "stdout",
          "text": [
            "[ 2  4  6  8 10 12 14 16 18 20 22 24 27 29 31 33 35 37 39 41 43 45 47 50]\n"
          ]
        }
      ]
    },
    {
      "cell_type": "code",
      "source": [
        "from numpy import random\n",
        "x = random.randint(100, size=(3, 5))\n",
        "print(x) \n",
        "\n",
        "\n"
      ],
      "metadata": {
        "colab": {
          "base_uri": "https://localhost:8080/"
        },
        "id": "QHXV2cb8pw_M",
        "outputId": "61e03237-196e-443c-fc1f-ea1663113d48"
      },
      "execution_count": null,
      "outputs": [
        {
          "output_type": "stream",
          "name": "stdout",
          "text": [
            "[[60 97 86 88 21]\n",
            " [87 42 75 63 90]\n",
            " [27 94 93 67 57]]\n"
          ]
        }
      ]
    },
    {
      "cell_type": "code",
      "source": [
        "x = random.choice([3, 5, 7, 9], size=(3, 5))\n",
        "print(x)"
      ],
      "metadata": {
        "id": "WqYIQQszqLyx",
        "outputId": "ba6915ab-222e-47b5-d355-9f23405c378b",
        "colab": {
          "base_uri": "https://localhost:8080/"
        }
      },
      "execution_count": null,
      "outputs": [
        {
          "output_type": "stream",
          "name": "stdout",
          "text": [
            "[[9 9 7 3 9]\n",
            " [5 9 7 3 3]\n",
            " [7 7 3 5 7]]\n"
          ]
        }
      ]
    }
  ]
}